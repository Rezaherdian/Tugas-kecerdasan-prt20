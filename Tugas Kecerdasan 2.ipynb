{
 "cells": [
  {
   "cell_type": "code",
   "execution_count": 1,
   "id": "87e34199-f0aa-495b-b5db-34cf53a1ead4",
   "metadata": {},
   "outputs": [
    {
     "name": "stdout",
     "output_type": "stream",
     "text": [
      "Rule 1: α-predikat = 0.00, z = 10.00\n",
      "Rule 2: α-predikat = 1.00, z = 30.00\n",
      "Rule 3: α-predikat = 0.00, z = 30.00\n",
      "Diskon akhir: 30.00%\n"
     ]
    }
   ],
   "source": [
    "import numpy as np\n",
    "\n",
    "# Fungsi keanggotaan untuk jumlah pembelian\n",
    "def jumlah_pembelian_low(x):\n",
    "    return max(0, min(1, (40 - x) / 40))\n",
    "\n",
    "def jumlah_pembelian_medium(x):\n",
    "    if 20 <= x <= 80:\n",
    "        return max(0, min((x - 20) / 30, (80 - x) / 30))\n",
    "    return 0\n",
    "\n",
    "def jumlah_pembelian_high(x):\n",
    "    return max(0, min(1, (x - 60) / 40))\n",
    "\n",
    "# Fungsi keanggotaan untuk frekuensi pelanggan\n",
    "def frekuensi_rare(x):\n",
    "    return max(0, min(1, (20 - x) / 20))\n",
    "\n",
    "def frekuensi_occasional(x):\n",
    "    if 10 <= x <= 40:\n",
    "        return max(0, min((x - 10) / 15, (40 - x) / 15))\n",
    "    return 0\n",
    "\n",
    "def frekuensi_frequent(x):\n",
    "    return max(0, min(1, (x - 30) / 20))\n",
    "\n",
    "# Fungsi keanggotaan untuk diskon (output crisp)\n",
    "def diskon_low(alpha):\n",
    "    return 10 + alpha * (20 - 10)\n",
    "\n",
    "def diskon_medium(alpha):\n",
    "    return 20 + alpha * (30 - 20)\n",
    "\n",
    "def diskon_high(alpha):\n",
    "    return 30 + alpha * (50 - 30)\n",
    "\n",
    "# Aturan fuzzy\n",
    "def inferensi(jumlah_pembelian, frekuensi_pelanggan):\n",
    "    rules = []\n",
    "\n",
    "    # Rule 1: Jika jumlah pembelian low dan frekuensi rare, maka diskon low\n",
    "    alpha1 = min(jumlah_pembelian_low(jumlah_pembelian), frekuensi_rare(frekuensi_pelanggan))\n",
    "    z1 = diskon_low(alpha1)\n",
    "    rules.append((alpha1, z1))\n",
    "\n",
    "    # Rule 2: Jika jumlah pembelian medium dan frekuensi occasional, maka diskon medium\n",
    "    alpha2 = min(jumlah_pembelian_medium(jumlah_pembelian), frekuensi_occasional(frekuensi_pelanggan))\n",
    "    z2 = diskon_medium(alpha2)\n",
    "    rules.append((alpha2, z2))\n",
    "\n",
    "    # Rule 3: Jika jumlah pembelian high dan frekuensi frequent, maka diskon high\n",
    "    alpha3 = min(jumlah_pembelian_high(jumlah_pembelian), frekuensi_frequent(frekuensi_pelanggan))\n",
    "    z3 = diskon_high(alpha3)\n",
    "    rules.append((alpha3, z3))\n",
    "\n",
    "    return rules\n",
    "\n",
    "# Defuzzifikasi menggunakan rata-rata tertimbang\n",
    "def defuzzifikasi(rules):\n",
    "    numerator = sum(alpha * z for alpha, z in rules)\n",
    "    denominator = sum(alpha for alpha, _ in rules)\n",
    "    return numerator / denominator if denominator != 0 else 0\n",
    "\n",
    "# Input\n",
    "jumlah_pembelian = 50  # Nilai jumlah pembelian\n",
    "frekuensi_pelanggan = 25  # Nilai frekuensi pelanggan\n",
    "\n",
    "# Proses inferensi\n",
    "rules = inferensi(jumlah_pembelian, frekuensi_pelanggan)\n",
    "for i, (alpha, z) in enumerate(rules, 1):\n",
    "    print(f\"Rule {i}: α-predikat = {alpha:.2f}, z = {z:.2f}\")\n",
    "\n",
    "# Defuzzifikasi\n",
    "diskon_akhir = defuzzifikasi(rules)\n",
    "print(f\"Diskon akhir: {diskon_akhir:.2f}%\")\n"
   ]
  },
  {
   "cell_type": "code",
   "execution_count": null,
   "id": "af2fd02f-7647-4dcf-8f3b-edb804713703",
   "metadata": {},
   "outputs": [],
   "source": []
  }
 ],
 "metadata": {
  "kernelspec": {
   "display_name": "Python 3 (ipykernel)",
   "language": "python",
   "name": "python3"
  },
  "language_info": {
   "codemirror_mode": {
    "name": "ipython",
    "version": 3
   },
   "file_extension": ".py",
   "mimetype": "text/x-python",
   "name": "python",
   "nbconvert_exporter": "python",
   "pygments_lexer": "ipython3",
   "version": "3.12.6"
  },
  "widgets": {
   "application/vnd.jupyter.widget-state+json": {
    "state": {},
    "version_major": 2,
    "version_minor": 0
   }
  }
 },
 "nbformat": 4,
 "nbformat_minor": 5
}
